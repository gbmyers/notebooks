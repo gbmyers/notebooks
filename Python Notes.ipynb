{
 "cells": [
  {
   "cell_type": "markdown",
   "metadata": {},
   "source": [
    "# Python Notes"
   ]
  },
  {
   "cell_type": "markdown",
   "metadata": {},
   "source": [
    "This notebook started as the WGU Python cheatsheet. I've converted it into a Jupyter notebook for practice with notebooks and expanded it to serve as my own personal reference for Python. I add to it as I learn something useful. It is not a comprehensive source for learning Python, but it works for me."
   ]
  },
  {
   "cell_type": "markdown",
   "metadata": {},
   "source": [
    "###  multiple variable declaration\n",
    "Define multiple variables on a single line. Probably these should be related variables, no? "
   ]
  },
  {
   "cell_type": "code",
   "execution_count": 1,
   "metadata": {},
   "outputs": [
    {
     "name": "stdout",
     "output_type": "stream",
     "text": [
      "var1 = 1, var2 = 2, var3 = 3\n"
     ]
    }
   ],
   "source": [
    "var1, var2, var3 = 1, 2, 3      # multiple variable assignment\n",
    "print('var1 = {}, var2 = {}, var3 = {}'.format(var1, var2, var3))"
   ]
  },
  {
   "cell_type": "markdown",
   "metadata": {},
   "source": [
    "### Data Types"
   ]
  },
  {
   "cell_type": "code",
   "execution_count": 2,
   "metadata": {},
   "outputs": [
    {
     "name": "stdout",
     "output_type": "stream",
     "text": [
      "<class 'float'>\n"
     ]
    }
   ],
   "source": [
    "myInteger = 12     # variable assigned an integer\n",
    "myFloat = 1.2     # variable assigned a float\n",
    "myString = \"twelve\"     # variable assigned a string\n",
    "mySecondString = 'twelve'     # variable assigned a string\n",
    "myBoolean = False     # variable assigned a Boolean\n",
    "\n",
    "print(type(myFloat))     # determines type of object"
   ]
  },
  {
   "cell_type": "markdown",
   "metadata": {},
   "source": [
    "Use casting to convert varialbes to specific types:\n",
    "```python\n",
    "convInt = int(myFloat)      # converts float to an integer\n",
    "convFloat = float(myInteger)        # converts integer to a float\n",
    "convString = str(myInteger)     # converts integer to string\n",
    "```"
   ]
  },
  {
   "cell_type": "markdown",
   "metadata": {},
   "source": [
    "###  arithmetic operators "
   ]
  },
  {
   "cell_type": "code",
   "execution_count": 3,
   "metadata": {},
   "outputs": [
    {
     "name": "stdout",
     "output_type": "stream",
     "text": [
      "2 + 2 = 4\n",
      "2 - 2 = 0\n",
      "2 ** 2 = 4\n",
      "5 % 2 = 1\n",
      "2.1 / 2 = 1.05\n",
      "2.1 // 2 = 1.0\n"
     ]
    }
   ],
   "source": [
    "print(\"2 + 2 = {}\".format(2 + 2))      # addition\n",
    "print(\"2 - 2 = {}\".format(2 - 2))      # subtraction\n",
    "print(\"2 ** 2 = {}\".format(2 ** 2))      # power of\n",
    "print(\"5 % 2 = {}\".format(5 % 2))      # modulus\n",
    "print(\"2.1 / 2 = {}\".format(2.1 / 2))      # division, always results in float\n",
    "print(\"2.1 // 2 = {}\".format(2.1 // 2))      # division, always results in integer"
   ]
  },
  {
   "cell_type": "markdown",
   "metadata": {},
   "source": [
    "### assignment/reassignment operators\n",
    "```python\n",
    "myAssignment = 10       # assignment\n",
    "myAssignment += 5       # adds\n",
    "myAssignment -= 5       # subtracts\n",
    "myAssignment *= 5       # multiples\n",
    "myAssignment /= 5       # divides\n",
    "```"
   ]
  },
  {
   "cell_type": "markdown",
   "metadata": {},
   "source": [
    "### comparison operators\n",
    "```python\n",
    "myNum = 4\n",
    "print(myNum < 2)       # less than\n",
    "print(myNum > 2)       # greater than\n",
    "print(myNum <= 4)       # less than or equal to\n",
    "print(myNum >= 2)       # greater than or equal to\n",
    "print(myNum == 2)       # equal to\n",
    "print(myNum != 2)       # not equal to\n",
    "```"
   ]
  },
  {
   "cell_type": "markdown",
   "metadata": {},
   "source": [
    "###  string operations\n",
    "[view all string methods](https://docs.python.org/3/library/stdtypes.html#string-methods)"
   ]
  },
  {
   "cell_type": "code",
   "execution_count": 4,
   "metadata": {},
   "outputs": [
    {
     "name": "stdout",
     "output_type": "stream",
     "text": [
      "37\n",
      "Introduction To Programming In Python\n",
      "False\n"
     ]
    }
   ],
   "source": [
    "myCourse = \"introduction to programming in Python\"\n",
    "print(len(myCourse))      # length operator\n",
    "print(myCourse.title())     # capitalizes first letter of each word\n",
    "print(myCourse.islower())   # checks if the string is all lowercase"
   ]
  },
  {
   "cell_type": "code",
   "execution_count": 5,
   "metadata": {},
   "outputs": [
    {
     "name": "stdout",
     "output_type": "stream",
     "text": [
      "3\n",
      "Welcome to C859, Connie.\n",
      "['cowabunga', 'dude']\n"
     ]
    }
   ],
   "source": [
    "statement = \"I love Python. Working with Python is amazing because, hello, it's Python!\"\n",
    "print(statement.count('Python'))\n",
    "\n",
    "username = \"Connie\"\n",
    "code = \"C859\"\n",
    "userMessage = \"Welcome to {}, {}.\".format(code, username)\n",
    "print(userMessage)\n",
    "\n",
    "myNewPhrase = \"cowabunga dude\"\n",
    "mySplitPhrase = myNewPhrase.split(\" \")      # split method\n",
    "print(mySplitPhrase)"
   ]
  },
  {
   "cell_type": "markdown",
   "metadata": {},
   "source": [
    "###  Functions"
   ]
  },
  {
   "cell_type": "markdown",
   "metadata": {},
   "source": [
    "Functions are named code segments the optionally take inputs and return outputs. Functions without an explicit `return` will `return None`"
   ]
  },
  {
   "cell_type": "code",
   "execution_count": 6,
   "metadata": {},
   "outputs": [
    {
     "name": "stdout",
     "output_type": "stream",
     "text": [
      "24\n"
     ]
    }
   ],
   "source": [
    "def areaOf(width, height):       # function that accepts two inputs\n",
    "    return width * height       # function body outputs calculated area\n",
    "\n",
    "# function call provides two arguments and saves return value to a variable\n",
    "myArea = areaOf(4, 6)\n",
    "print(myArea)     # displays myArea"
   ]
  },
  {
   "cell_type": "markdown",
   "metadata": {},
   "source": [
    "Functions arguments can be set to defaults and made optional. You can specify an unknown number of arguments as `*args`, and you can specify keyword arguments wiht `**kwargs`."
   ]
  },
  {
   "cell_type": "code",
   "execution_count": 7,
   "metadata": {},
   "outputs": [
    {
     "name": "stdout",
     "output_type": "stream",
     "text": [
      "first argument: Hello\n",
      "Next argument through *argv: Welcome\n",
      "Next argument through *argv: to\n",
      "Next argument through *argv: GeeksforGeeks\n",
      "\n",
      "first argument: countdown\n",
      "Next argument through *argv: 5\n",
      "Next argument through *argv: 4\n",
      "Next argument through *argv: 3\n",
      "Next argument through *argv: 2\n",
      "Next argument through *argv: 1\n"
     ]
    }
   ],
   "source": [
    "# from https://www.geeksforgeeks.org/args-kwargs-python/\n",
    "# adapted to work with Python 3\n",
    "\n",
    "# Python program to illustrate \n",
    "# *args \n",
    "def testify(arg1, *argv):\n",
    "    print(\"first argument: {}\".format(arg1))\n",
    "    for arg in argv:\n",
    "        print(\"Next argument through *argv: {}\".format(arg))\n",
    " \n",
    "testify('Hello', 'Welcome', 'to', 'GeeksforGeeks')\n",
    "print()\n",
    "arglist = [5,4,3,2,1]\n",
    "testify('countdown', *arglist)"
   ]
  },
  {
   "cell_type": "code",
   "execution_count": 8,
   "metadata": {},
   "outputs": [
    {
     "name": "stdout",
     "output_type": "stream",
     "text": [
      "world == 1\n",
      "dog == 2\n",
      "\n",
      "a == 1\n",
      "b == c\n",
      "c == 2\n"
     ]
    }
   ],
   "source": [
    "# from https://www.geeksforgeeks.org/args-kwargs-python/\n",
    "# adapted to work with Python 3\n",
    "\n",
    "def hello(**kwargs):\n",
    "    if kwargs is not None:\n",
    "        for key, value in kwargs.items():\n",
    "            print(\"{} == {}\".format(key, value))\n",
    "            \n",
    "hello(world=1, dog=2)\n",
    "print()\n",
    "my_dict = {'a': 1, 'b': 'c', 'c': 2}\n",
    "hello(**my_dict)"
   ]
  },
  {
   "cell_type": "markdown",
   "metadata": {},
   "source": [
    "###  if / elif / else statements"
   ]
  },
  {
   "cell_type": "code",
   "execution_count": 9,
   "metadata": {},
   "outputs": [
    {
     "name": "stdout",
     "output_type": "stream",
     "text": [
      "you may drive with adult supervision\n"
     ]
    }
   ],
   "source": [
    "age = 16\n",
    "if age < 16:       # condition will evaluate to either True or False\n",
    "    # if condition is True, execute this block\n",
    "    print('you are not old enough to drive')\n",
    "# second condition will evaluate to either True or False\n",
    "elif age >= 16 and age <= 18:\n",
    "    # if second condition is True, execute this block\n",
    "    print('you may drive with adult supervision')\n",
    "else:\n",
    "    # if condition is False, execute this block\n",
    "    print('you may drive a vehicle')"
   ]
  },
  {
   "cell_type": "markdown",
   "metadata": {},
   "source": [
    "###  Boolean operations\n",
    "```python\n",
    "bool01 = True and False     # True iff both sides are True\n",
    "bool02 = True or False     # True if either side is True\n",
    "bool03 = not(True and False)     # Boolean negation\n",
    "```"
   ]
  },
  {
   "cell_type": "markdown",
   "metadata": {},
   "source": [
    "###  Lists  \n",
    "Ordered, mutable."
   ]
  },
  {
   "cell_type": "code",
   "execution_count": 10,
   "metadata": {},
   "outputs": [
    {
     "name": "stdout",
     "output_type": "stream",
     "text": [
      "9.2\n",
      "0\n"
     ]
    }
   ],
   "source": [
    "myNumbers = [1, 4.8, 7, 9.2, 3, 0]       # creates list\n",
    "print(myNumbers[3])     # prints the fourth number from the list\n",
    "print(myNumbers[-1])     # prints the last element from the list"
   ]
  },
  {
   "cell_type": "markdown",
   "metadata": {},
   "source": [
    "##### List Slicing\n",
    "`list[a:b]` Returns a new list from *a* to *b-1*. Returns an empty list if indexes are out of bounds. *a* or *b* are optional. Can also be negative to count from the end of the list. "
   ]
  },
  {
   "cell_type": "markdown",
   "metadata": {},
   "source": [
    "```python\n",
    "# creates a new list with the second and third values from myNumbers\n",
    "yourNumbers = myNumbers[1:3]\n",
    "# creates a new list with 1st, 2nd, and 3rd values from myNumbers\n",
    "altNumbers = myNumbers[:3]\n",
    "# creates a new list with 4th, 5th, and 6th values from myNumbers\n",
    "newNumbers = myNumbers[3:]\n",
    "```\n",
    "\n",
    "More list functions.\n",
    "\n",
    "```python\n",
    "matchList = 9.2 in myNumbers        # looks for a match and returns Boolean\n",
    "noMatch = 9.3 not in myNumbers      # ensures a match does not exist in list\n",
    "\n",
    "listLength = len(myNumbers)     # counts items in list\n",
    "listMax = max(myNumbers)        # returns greatest element of list\n",
    "listMin = min(myNumbers)        # returns smallest element of list\n",
    "listSort = sorted(myNumbers)        # returns copy of list ordered smallest to largest\n",
    "listSortAgain = sorted(myNumbers, reverse=True)        # returns copy of list ordered largest to smallest\n",
    "listSum = sum(myNumbers)        # returns total sum of list values\n",
    "```"
   ]
  },
  {
   "cell_type": "code",
   "execution_count": 11,
   "metadata": {},
   "outputs": [
    {
     "name": "stdout",
     "output_type": "stream",
     "text": [
      "Welcome aboard Jessica, Amy\n"
     ]
    }
   ],
   "source": [
    "myNames = ['Jessica', 'Connie', 'Amy']\n",
    "myNames.append('Grace')     # new value is added to end of list\n",
    "myNames.pop()       # removes last item from the list\n",
    "myNames.pop(1)      # removes second item from the list\n",
    "listJoined = \", \".join(myNames)     # a string is used to join together values from list\n",
    "print('Welcome aboard ' + listJoined)"
   ]
  },
  {
   "cell_type": "markdown",
   "metadata": {},
   "source": [
    "##### List comprehension"
   ]
  },
  {
   "cell_type": "code",
   "execution_count": 12,
   "metadata": {},
   "outputs": [
    {
     "name": "stdout",
     "output_type": "stream",
     "text": [
      "[0, 1, 4, 9, 16, 25, 36, 49, 64, 81]\n"
     ]
    }
   ],
   "source": [
    "squares = [x**2 for x in range(10)]     # list comprehnesion - generates a list of squares\n",
    "print(squares)"
   ]
  },
  {
   "cell_type": "markdown",
   "metadata": {},
   "source": [
    "##### Combining List and Dictionary comprehension\n",
    "Say you have a file full of 'xx=yy' pairs, and you need to get them into a dictionary."
   ]
  },
  {
   "cell_type": "code",
   "execution_count": 3,
   "metadata": {},
   "outputs": [
    {
     "name": "stdout",
     "output_type": "stream",
     "text": [
      "{'a': '1', 'b': '2', 'c': '3'}\n"
     ]
    }
   ],
   "source": [
    "my_file = ['a=1',\n",
    "           'b=2',\n",
    "           'c=3']\n",
    "\n",
    "my_dict = {k: v for k, v in [line.strip().split('=') for line in my_file]}\n",
    "print(my_dict)"
   ]
  },
  {
   "cell_type": "markdown",
   "metadata": {},
   "source": [
    "### Sets\n",
    "Unordered, mutable. Guarnateed that each element exists only once.  \n",
    "```python\n",
    "idNums = set()      # creates a set\n",
    "idNums.add(12345)        # adds value to set\n",
    "idNums.add(12367)        # adds second value to set\n",
    "idNums.add(12367)        # adds third value to set, but it is duplicate so it will not be added\n",
    "idNums.discard(12345)       # removes value from set, if found\n",
    "```"
   ]
  },
  {
   "cell_type": "markdown",
   "metadata": {},
   "source": [
    "### For Loop\n",
    "Loop a set number of time, based on an iterator.  Very useful to loop through the items in a list or keys in a dictionary.  "
   ]
  },
  {
   "cell_type": "code",
   "execution_count": 13,
   "metadata": {},
   "outputs": [
    {
     "name": "stdout",
     "output_type": "stream",
     "text": [
      "Welcome to the city of Albany\n",
      "Welcome to the city of Chicago\n",
      "Welcome to the city of Boulder\n",
      "Welcome to the city of Tampa\n"
     ]
    }
   ],
   "source": [
    "cities = ['Albany', 'Chicago', 'Boulder', 'Tampa']\n",
    "for city in cities:     # performs commands for each item within list\n",
    "    print('Welcome to the city of ' + city)"
   ]
  },
  {
   "cell_type": "code",
   "execution_count": 14,
   "metadata": {},
   "outputs": [
    {
     "name": "stdout",
     "output_type": "stream",
     "text": [
      "1\n",
      "2\n",
      "3\n",
      "4\n",
      "10\n"
     ]
    }
   ],
   "source": [
    "sum = 0\n",
    "for num in range(1,5):      # runs loop for numbers 1 through 4\n",
    "    print(num)\n",
    "    sum += num\n",
    "print(sum)"
   ]
  },
  {
   "cell_type": "markdown",
   "metadata": {},
   "source": [
    "Use a for loop to extract key-value pairs from a dicttionary with dictionary.items()"
   ]
  },
  {
   "cell_type": "code",
   "execution_count": 15,
   "metadata": {},
   "outputs": [
    {
     "name": "stdout",
     "output_type": "stream",
     "text": [
      "Value 1 for key a.\n",
      "Value 2 for key b.\n",
      "Value 3 for key c.\n",
      "Value 4 for key d.\n"
     ]
    }
   ],
   "source": [
    "my_dict = {\"a\": 1,\n",
    "          \"b\": 2,\n",
    "          \"c\": 3,\n",
    "          \"d\": 4}\n",
    "for key, value in my_dict.items():\n",
    "    print(\"Value {} for key {}.\".format(value, key))"
   ]
  },
  {
   "cell_type": "markdown",
   "metadata": {},
   "source": [
    "### While Loop"
   ]
  },
  {
   "cell_type": "code",
   "execution_count": 16,
   "metadata": {},
   "outputs": [
    {
     "name": "stdout",
     "output_type": "stream",
     "text": [
      "34\n",
      "33\n",
      "32\n",
      "it is freezing\n"
     ]
    }
   ],
   "source": [
    "temp = 34\n",
    "while temp >= 32:       # while condition is true loop will iterate\n",
    "    print(temp)\n",
    "    temp -= 1       # variable must change state, moving towards satisfying condition\n",
    "print('it is freezing')"
   ]
  },
  {
   "cell_type": "code",
   "execution_count": 17,
   "metadata": {},
   "outputs": [
    {
     "name": "stdout",
     "output_type": "stream",
     "text": [
      "0 1 2 3 breaking...\n",
      "4\n"
     ]
    }
   ],
   "source": [
    "startValue = 0\n",
    "while startValue < 20:\n",
    "    print(\"{} \".format(startValue), end=\"\")\n",
    "    startValue += 1\n",
    "    if startValue == 4:     # if statement checks for a specific value\n",
    "        print(\"breaking...\")\n",
    "        break       # stops the flow of the while loop prematurely\n",
    "print(startValue)"
   ]
  },
  {
   "cell_type": "markdown",
   "metadata": {},
   "source": [
    "### Dictionaries"
   ]
  },
  {
   "cell_type": "code",
   "execution_count": 18,
   "metadata": {},
   "outputs": [
    {
     "name": "stdout",
     "output_type": "stream",
     "text": [
      "student is in course\n",
      "98\n",
      "Orfu, you earned 83 on the final exam\n",
      "Bismark, you earned 98 on the final exam\n",
      "Igor, you earned 72 on the final exam\n"
     ]
    }
   ],
   "source": [
    "studentGrades = {       # dictionary is created\n",
    "    'Orfu': 83,     # first entry is added with key of 'Orfu' and value of 83\n",
    "    'Bismark': 98,\n",
    "    'Igor': 72\n",
    "}\n",
    "\n",
    "if 'Igor' in studentGrades:     # in verifies if key is in dictionary\n",
    "    print('student is in course')\n",
    "\n",
    "print( studentGrades.get('Bismark') )       # get method looks up value by key\n",
    "\n",
    "for student in studentGrades:       # for loop iterates over each entry in dictionary\n",
    "    print('{}, you earned {} on the final exam'.format(student, studentGrades[student]))"
   ]
  },
  {
   "cell_type": "markdown",
   "metadata": {},
   "source": [
    "### Tuples"
   ]
  },
  {
   "cell_type": "code",
   "execution_count": 19,
   "metadata": {},
   "outputs": [
    {
     "name": "stdout",
     "output_type": "stream",
     "text": [
      "Call WGU at 877-435-7948\n"
     ]
    }
   ],
   "source": [
    "myPhone = (877, 435, 7948)      # tuple is created with three sections of a phone number\n",
    "num1, num2, num3 = myPhone\n",
    "print( 'Call WGU at {}-{}-{}'.format(num1, num2, num3) )"
   ]
  },
  {
   "cell_type": "markdown",
   "metadata": {},
   "source": [
    "### Reading and Writing Files\n",
    "```python\n",
    "f1 = open('/my_path/my_file.txt','r')        # opens a file object for reading (read-mode is default)\n",
    "f1 = open('/my_path/my_file.txt','w')        # opens a file object for writing and deletes what is in the file previously\n",
    "f1 = open('/my_path/my_file.txt','a')        # opens a file object for appending\n",
    "\n",
    "f1.read()        # reads the data from file into a string\n",
    "f1.write('hello, friend')        # writes to file\n",
    "f1.readline()       # reads the next line of a file\n",
    "f1.close()       # closes file\n",
    "\n",
    "with open('/my_path/my_file.txt','r') as f:     # opens a file, performs operations and automatically closes file\n",
    "    my_lines = []\n",
    "    for line in f:\n",
    "        my_lines.append(line.strip())       # strip removes newline characters\n",
    "```"
   ]
  },
  {
   "cell_type": "markdown",
   "metadata": {},
   "source": [
    "### Modules & Python Standard Library"
   ]
  },
  {
   "cell_type": "code",
   "execution_count": 20,
   "metadata": {},
   "outputs": [
    {
     "name": "stdout",
     "output_type": "stream",
     "text": [
      "6\n",
      "5\n",
      "6\n",
      "20.085536923187668\n",
      "2.449489742783178\n"
     ]
    }
   ],
   "source": [
    "import math     # imports the math module\n",
    "print(math.factorial(3))        # returns factorial of parameter\n",
    "print(math.floor(5.6))      # returns the largest integer less than or equal to parameter\n",
    "print(math.ceil(5.6))      # returns the smallest integer greater than or equal to parameter\n",
    "print(math.exp(3))       # returns e**parameter\n",
    "print(math.sqrt(6))     # returns square root of parameter"
   ]
  },
  {
   "cell_type": "code",
   "execution_count": 21,
   "metadata": {},
   "outputs": [
    {
     "name": "stdout",
     "output_type": "stream",
     "text": [
      "3\n",
      "5\n",
      "0.541974019052123\n",
      "orange\n"
     ]
    }
   ],
   "source": [
    "import random       # imports random library\n",
    "print(random.randrange(5))       # Return a randomly selected element from range(start, stop, step) (up to 0-4 in this case)\n",
    "print(random.randint(5,10))     # Return a random integer between 5 and 10\n",
    "print(random.random())      # Return the next random floating point number in the range [0.0, 1.0)\n",
    "word_list = ['apple','banana','orange','pineapple']\n",
    "print(random.choice(word_list))      # Return a random element from the non-empty sequence word_list"
   ]
  },
  {
   "cell_type": "markdown",
   "metadata": {},
   "source": [
    "### Python standard library\n",
    "\n",
    "[Python Standard Library](https://docs.python.org/3/library/)  \n",
    "\n",
    "Familiarize yourself with these modules: \n",
    "* csv\n",
    "* collections\n",
    "* random\n",
    "* string\n",
    "* re\n",
    "* math\n",
    "* os\n",
    "* sys\n",
    "* json\n",
    "* timedelta \n",
    "  \n",
    "```python\n",
    "from collections import defaultdict     # imports individual function from a module\n",
    "defaultdict()       # function can now be used by name\n",
    "\n",
    "from csv import reader as scvreader     # imports individual function from a module and assigns it a new name\n",
    "scvreader()       # function can now be used by new name\n",
    "```\n",
    "\n",
    "\n",
    "### Third-Party Libraries\n",
    "To install package pytz: `pip install pytz`\n",
    "\n",
    "```python\n",
    "import pytz     # imports the package\n",
    "```\n",
    "\n",
    "Useful Packages to know:\n",
    "* [beautiful soup](https://www.crummy.com/software/BeautifulSoup/) Useful for web scraping\n",
    "* [pandas](http://pandas.pydata.org/) high-performans data structures for analysis\n",
    "* [pillow](https://python-pillow.org/) Python Imaging Library\n",
    "* [pyglet](http://www.pyglet.org/) intended for game development\n",
    "* [pytz](http://pytz.sourceforge.net/) timezone definitions\n",
    "* [datetime](https://docs.python.org/3/library/datetime.html)\n",
    "* [math](https://docs.python.org/3/library/math.html)\n",
    "* [NumPy](http://www.numpy.org/) The fundamental package for scientific computing with Python\n",
    "* [os](https://docs.python.org/3/library/os.html)\n",
    "* [random](https://docs.python.org/3/library/random.html\n",
    "* [requests](http://docs.python-requests.org/) easy to use web requests\n",
    "* [Flask](http://flask.pocoo.org/) Lightweight framework for web apps\n",
    "* [DJango](https://www.djangoproject.com/) More featureful framework for web apps\n",
    "* [pytest](http://doc.pytest.org/) unit testing module\n",
    "* [PyYAML](http://pyyaml.org/wiki/PyYAML) work with YAML files\n",
    "* [mathplotlib](http://matplotlib.org/) 2D plotting\n",
    "* [ggplot](http://ggplot.yhathq.com/) another 2D plotting module, based on R's ggplot2"
   ]
  },
  {
   "cell_type": "markdown",
   "metadata": {},
   "source": [
    "### Docstrings\n",
    "First line immediately following a fuction definition. Uses `\"\"\"triple quoted strings\"\"\"`.  \n",
    "First line of docstring should be a brief description of the function.  \n",
    "Additional lines are only added if necessary and describe inputs and outputs.  \n",
    "More info on docstring conventions in [PEP-257](https://www.python.org/dev/peps/pep-0257)  \n",
    "Access a docstring via `function_name.__doc__`"
   ]
  },
  {
   "cell_type": "code",
   "execution_count": 22,
   "metadata": {},
   "outputs": [
    {
     "name": "stdout",
     "output_type": "stream",
     "text": [
      "This fuction does something useful\n",
      "    \n",
      "    Inputs:\n",
      "    parameter_a: the first parameter\n",
      "    parameter_b: the scond parameter\n",
      "    \n",
      "    Outputs:\n",
      "    Hopefully this returns something useful\n"
     ]
    }
   ],
   "source": [
    "def function_name(parameter_a, parameter_b):\n",
    "    '''This fuction does something useful\n",
    "    \n",
    "    Inputs:\n",
    "    parameter_a: the first parameter\n",
    "    parameter_b: the scond parameter\n",
    "    \n",
    "    Outputs:\n",
    "    Hopefully this returns something useful'''\n",
    "    return \"somthing useful\"\n",
    "\n",
    "print(function_name.__doc__)"
   ]
  },
  {
   "cell_type": "markdown",
   "metadata": {},
   "source": [
    "### Lamda functions\n",
    "Used to create an anonymous function.  \n",
    "```python\n",
    "multiply = lambda x,y: x*y\n",
    "```\n",
    "Useful to create a simple function as in the example above. Can also be used for higher-order functions that take other functions as inputs.  \n",
    "```python\n",
    "small_ints = list(filter(lambda x: x<10, list_of_ints))\n",
    "```\n",
    "filter() will filter the iterable (list_of_ints, in this case) using the function provided. Note that filter() returns a filter object, so we have to cast it as a list. "
   ]
  },
  {
   "cell_type": "code",
   "execution_count": 23,
   "metadata": {},
   "outputs": [
    {
     "name": "stdout",
     "output_type": "stream",
     "text": [
      "[10, 5, 2, 3, 5]\n"
     ]
    }
   ],
   "source": [
    "list_of_ints = [20,30,10,5,40,2,3,5,90]\n",
    "small_ints = list(filter(lambda x: x<=10, list_of_ints))\n",
    "print(small_ints)"
   ]
  },
  {
   "cell_type": "markdown",
   "metadata": {},
   "source": [
    "### Iterables and iterators\n",
    "__Iterables__ are objects that can return on element at a time. Ex: lists  \n",
    "__Iterators__ are objects that represent a stream of data. A list is an iterable, but not an iterator  \n",
    "__Generators__ are used to create iterators. The term generator is often used to refer to the function that creates the iterator and the iterator itself. "
   ]
  },
  {
   "cell_type": "code",
   "execution_count": 24,
   "metadata": {},
   "outputs": [
    {
     "name": "stdout",
     "output_type": "stream",
     "text": [
      "0 1 2 3 4 5 6 7 8 9 "
     ]
    }
   ],
   "source": [
    "def gen_function(x):\n",
    "    i = 0\n",
    "    while i < x:\n",
    "        yield i\n",
    "        i += 1\n",
    "\n",
    "for x in gen_function(10):\n",
    "    print(\"{} \".format(x), end=\"\")"
   ]
  },
  {
   "cell_type": "markdown",
   "metadata": {},
   "source": [
    "### sorted()  \n",
    "Takes any iterable and returns a new list in sorted order."
   ]
  },
  {
   "cell_type": "code",
   "execution_count": 25,
   "metadata": {},
   "outputs": [
    {
     "name": "stdout",
     "output_type": "stream",
     "text": [
      "[2, 3, 4, 4, 5, 6, 7, 7]\n"
     ]
    }
   ],
   "source": [
    "my_list = [4,5,2,7,3,6,4,7]\n",
    "new_list = sorted(my_list)\n",
    "print(new_list)"
   ]
  },
  {
   "cell_type": "markdown",
   "metadata": {},
   "source": [
    "Can take a key function for sorting based on list elements."
   ]
  },
  {
   "cell_type": "code",
   "execution_count": 26,
   "metadata": {},
   "outputs": [
    {
     "name": "stdout",
     "output_type": "stream",
     "text": [
      "[('b', 5), ('a', 10), ('c', 15)]\n"
     ]
    }
   ],
   "source": [
    "my_tuples = [\n",
    "    (\"a\", 10),\n",
    "    (\"b\", 5),\n",
    "    (\"c\", 15)\n",
    "]\n",
    "new_list = sorted(my_tuples, key = lambda element: element[1])\n",
    "print(new_list)"
   ]
  },
  {
   "cell_type": "markdown",
   "metadata": {},
   "source": [
    "Sort order can be reveresed wiht `reverse=True`"
   ]
  },
  {
   "cell_type": "code",
   "execution_count": 27,
   "metadata": {},
   "outputs": [
    {
     "name": "stdout",
     "output_type": "stream",
     "text": [
      "[('c', 15), ('a', 10), ('b', 5)]\n"
     ]
    }
   ],
   "source": [
    "new_list = sorted(my_tuples, key = lambda element: element[1], reverse=True)\n",
    "print(new_list)"
   ]
  },
  {
   "cell_type": "markdown",
   "metadata": {},
   "source": [
    "More detail can be found [here](https://docs.python.org/3/howto/sorting.html)."
   ]
  }
 ],
 "metadata": {
  "kernelspec": {
   "display_name": "Python 3",
   "language": "python",
   "name": "python3"
  },
  "language_info": {
   "codemirror_mode": {
    "name": "ipython",
    "version": 3
   },
   "file_extension": ".py",
   "mimetype": "text/x-python",
   "name": "python",
   "nbconvert_exporter": "python",
   "pygments_lexer": "ipython3",
   "version": "3.6.5"
  }
 },
 "nbformat": 4,
 "nbformat_minor": 2
}
